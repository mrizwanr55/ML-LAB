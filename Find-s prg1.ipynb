{
 "cells": [
  {
   "cell_type": "code",
   "execution_count": 2,
   "metadata": {},
   "outputs": [
    {
     "name": "stdout",
     "output_type": "stream",
     "text": [
      "[['sunny', 'Rainy'], ['warm', 'cold'], ['normal', 'high'], ['strong', 'weak'], ['warm', 'cool'], ['same', 'change']]\n",
      "6\n",
      "\n",
      " the most general hypothesis :['?','?','?','?','?','?']\n",
      "\n",
      "\n",
      " the most specific hypothesis :['0','0','0','0','0','0']\n",
      "\n",
      "\n",
      " The given training dataset\n",
      "['Sky', 'AirTemp', 'Humidity', 'Wind', 'Water', 'Forecast', 'EnjoySport']\n",
      "['Sunny', 'Warm', 'Normal', 'Strong', 'Warm', 'Same', 'Yes']\n",
      "['Sunny', 'Warm', 'High', 'Strong', 'Warm', 'Same', 'Yes']\n",
      "['Rainy', 'Cold', 'High', 'Strong', 'Warm', 'Change', 'No']\n",
      "['Sunny', 'Warm', 'High', 'Strong', 'Cold', 'Change', 'Yes']\n",
      "The initial value of hypothesis :\n",
      "['0', '0', '0', '0', '0', '0']\n",
      "\n",
      " for training examples :{0} the hypothesis 5 ['Sunny', 'Warm', '?', 'Strong', '?', '?']\n"
     ]
    }
   ],
   "source": [
    "import random\n",
    "\n",
    "import csv\n",
    "\n",
    "attributes=[['sunny','Rainy'],['warm','cold'],['normal','high'],['strong','weak'],['warm','cool'],['same','change']]\n",
    "\n",
    "print(attributes)\n",
    "\n",
    "num_attributes=len(attributes)\n",
    "print(num_attributes)\n",
    "\n",
    "print(\"\\n the most general hypothesis :['?','?','?','?','?','?']\\n\")\n",
    "print(\"\\n the most specific hypothesis :['0','0','0','0','0','0']\\n\")\n",
    "\n",
    "\n",
    "a=[]\n",
    "print(\"\\n The given training dataset\")\n",
    "with open('datalab.csv','r') as csvFile:\n",
    "    reader=csv.reader(csvFile)\n",
    "    for row in reader:\n",
    "        a.append(row)\n",
    "        print(row)\n",
    "\n",
    "\n",
    "print(\"The initial value of hypothesis :\")\n",
    "h=['0']*num_attributes\n",
    "print(h)\n",
    "\n",
    "for j in range(0,num_attributes):\n",
    "        h[j] = a[1][j]\n",
    "\n",
    "for i in range(1,len(a)):\n",
    "    if(a[i][num_attributes]=='Yes'):\n",
    "        for j in range(num_attributes):\n",
    "            if(h[j]=='0' or h[j]==a[i][j]):\n",
    "                h[j]=a[i][j]\n",
    "            else:\n",
    "                h[j]='?'\n",
    "print(\"\\n for training examples :{0} the hypothesis\",format(i+1),h)\n",
    "                \n",
    "        "
   ]
  },
  {
   "cell_type": "code",
   "execution_count": null,
   "metadata": {},
   "outputs": [],
   "source": []
  },
  {
   "cell_type": "code",
   "execution_count": null,
   "metadata": {},
   "outputs": [],
   "source": []
  },
  {
   "cell_type": "code",
   "execution_count": null,
   "metadata": {},
   "outputs": [],
   "source": []
  },
  {
   "cell_type": "code",
   "execution_count": null,
   "metadata": {},
   "outputs": [],
   "source": []
  }
 ],
 "metadata": {
  "kernelspec": {
   "display_name": "Python 3",
   "language": "python",
   "name": "python3"
  }
 },
 "nbformat": 4,
 "nbformat_minor": 4
}
