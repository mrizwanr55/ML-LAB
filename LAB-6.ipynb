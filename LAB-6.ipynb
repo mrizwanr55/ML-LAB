{
 "cells": [
  {
   "cell_type": "code",
   "execution_count": 1,
   "metadata": {},
   "outputs": [
    {
     "name": "stdout",
     "output_type": "stream",
     "text": [
      "Total instances in the dataset: 18\n",
      "\n",
      " Total features extracted using CountVectorizor: 46\n",
      "\n",
      " Features for first 5 training instances are listed below\n",
      "   about  amazing  an  awesome  bad  beers  best  boss  can  dance  ...   \\\n",
      "0      0        0   0        0    0      0     0     1    0      0  ...    \n",
      "1      0        0   0        0    0      0     1     0    0      0  ...    \n",
      "2      0        0   0        0    0      0     0     0    0      0  ...    \n",
      "3      0        0   0        0    0      0     0     0    0      0  ...    \n",
      "4      1        0   0        0    0      1     0     0    0      0  ...    \n",
      "\n",
      "   these  this  to  tomorrow  very  we  what  will  with  work  \n",
      "0      0     0   0         0     0   0     0     0     0     0  \n",
      "1      0     1   0         0     0   0     0     0     0     1  \n",
      "2      0     1   0         0     0   0     0     0     0     0  \n",
      "3      0     0   0         0     0   0     0     0     0     0  \n",
      "4      1     0   0         0     1   0     0     0     0     0  \n",
      "\n",
      "[5 rows x 46 columns]\n",
      "\n",
      " Classification results of testing samples are given below\n",
      "I am tired of this stuff = pos\n",
      "I am sick and tired of this place = pos\n",
      "I went to my enemy's house today = neg\n",
      "What an awesome view = pos\n",
      "I do not like this restaurant = neg\n",
      "\n",
      " Accuracy metrics\n",
      "Accuracy of the classifier is 0.6\n",
      "Recall: 1.0\n",
      "Precision: 0.3333333333333333\n",
      "Confusion matrix\n",
      "[[2 2]\n",
      " [0 1]]\n"
     ]
    }
   ],
   "source": [
    "import pandas as pd\n",
    "from sklearn.model_selection import train_test_split\n",
    "from sklearn.feature_extraction.text import CountVectorizer\n",
    "\n",
    "msg=pd.read_csv('data6.csv',names=['message','label'])#tabular form data\n",
    "print('Total instances in the dataset:',msg.shape[0])\n",
    "msg['labelnum']=msg.label.map({'pos':1,'neg':0})\n",
    "X=msg.message\n",
    "Y=msg.labelnum    \n",
    "    \n",
    "\n",
    "xtrain,xtest,ytrain,ytest=train_test_split(X,Y)\n",
    "count_vect=CountVectorizer()\n",
    "xtrain_dtm=count_vect.fit_transform(xtrain)#Sparse matrix\n",
    "xtest_dtm=count_vect.transform(xtest)\n",
    "print('\\n Total features extracted using CountVectorizor:',xtrain_dtm.shape[1])\n",
    "print('\\n Features for first 5 training instances are listed below')\n",
    "df=pd.DataFrame(xtrain_dtm.toarray(),columns=count_vect.get_feature_names())\n",
    "\n",
    "print(df[0:5])\n",
    "\n",
    "\n",
    "from sklearn.naive_bayes import MultinomialNB\n",
    "clf=MultinomialNB().fit(xtrain_dtm,ytrain)\n",
    "predicted=clf.predict(xtest_dtm)\n",
    "print('\\n Classification results of testing samples are given below')\n",
    "for doc,p in zip(xtest,predicted):\n",
    "    pred='pos' if p==1 else 'neg'\n",
    "    print(doc,\"=\",pred)\n",
    "\n",
    "    \n",
    "from sklearn import metrics\n",
    "print('\\n Accuracy metrics')\n",
    "print('Accuracy of the classifier is',metrics.accuracy_score(ytest,predicted))\n",
    "print('Recall:',metrics.recall_score(ytest,predicted))\n",
    "print('Precision:',metrics.precision_score(ytest,predicted))\n",
    "print('Confusion matrix')\n",
    "print(metrics.confusion_matrix(ytest,predicted))"
   ]
  },
  {
   "cell_type": "code",
   "execution_count": null,
   "metadata": {},
   "outputs": [],
   "source": []
  },
  {
   "cell_type": "code",
   "execution_count": null,
   "metadata": {},
   "outputs": [],
   "source": []
  }
 ],
 "metadata": {
  "kernelspec": {
   "display_name": "Python 3",
   "language": "python",
   "name": "python3"
  },
  "language_info": {
   "codemirror_mode": {
    "name": "ipython",
    "version": 3
   },
   "file_extension": ".py",
   "mimetype": "text/x-python",
   "name": "python",
   "nbconvert_exporter": "python",
   "pygments_lexer": "ipython3",
   "version": "3.7.1"
  }
 },
 "nbformat": 4,
 "nbformat_minor": 4
}
